{
 "cells": [
  {
   "cell_type": "markdown",
   "metadata": {},
   "source": [
    "#### Open cleaned data"
   ]
  },
  {
   "cell_type": "code",
   "execution_count": 1,
   "metadata": {},
   "outputs": [],
   "source": [
    "import pandas as pd\n",
    "import numpy as np\n",
    "import seaborn as sns\n",
    "import matplotlib.pyplot as plt\n",
    "%matplotlib inline"
   ]
  },
  {
   "cell_type": "code",
   "execution_count": 2,
   "metadata": {},
   "outputs": [],
   "source": [
    "df = pd.read_csv('cleaned_data.csv')"
   ]
  },
  {
   "cell_type": "code",
   "execution_count": 3,
   "metadata": {},
   "outputs": [
    {
     "name": "stdout",
     "output_type": "stream",
     "text": [
      "<class 'pandas.core.frame.DataFrame'>\n",
      "RangeIndex: 4410 entries, 0 to 4409\n",
      "Data columns (total 26 columns):\n",
      " #   Column                   Non-Null Count  Dtype  \n",
      "---  ------                   --------------  -----  \n",
      " 0   Age                      4410 non-null   int64  \n",
      " 1   Attrition                4410 non-null   object \n",
      " 2   BusinessTravel           4410 non-null   object \n",
      " 3   Department               4410 non-null   object \n",
      " 4   DistanceFromHome         4410 non-null   int64  \n",
      " 5   Education                4410 non-null   object \n",
      " 6   EducationField           4410 non-null   object \n",
      " 7   Gender                   4410 non-null   object \n",
      " 8   JobLevel                 4410 non-null   int64  \n",
      " 9   JobRole                  4410 non-null   object \n",
      " 10  MaritalStatus            4410 non-null   object \n",
      " 11  MonthlyIncome            4410 non-null   int64  \n",
      " 12  NumCompaniesWorked       4410 non-null   float64\n",
      " 13  PercentSalaryHike        4410 non-null   int64  \n",
      " 14  StockOptionLevel         4410 non-null   int64  \n",
      " 15  TotalWorkingYears        4410 non-null   float64\n",
      " 16  TrainingTimesLastYear    4410 non-null   int64  \n",
      " 17  YearsAtCompany           4410 non-null   int64  \n",
      " 18  YearsSinceLastPromotion  4410 non-null   int64  \n",
      " 19  YearsWithCurrManager     4410 non-null   int64  \n",
      " 20  Absence                  4410 non-null   int64  \n",
      " 21  EnvironmentSatisfaction  4410 non-null   float64\n",
      " 22  JobSatisfaction          4410 non-null   float64\n",
      " 23  WorkLifeBalance          4410 non-null   float64\n",
      " 24  JobInvolvement           4410 non-null   float64\n",
      " 25  PerformanceRating        4410 non-null   float64\n",
      "dtypes: float64(7), int64(11), object(8)\n",
      "memory usage: 895.9+ KB\n"
     ]
    }
   ],
   "source": [
    "df.info()"
   ]
  },
  {
   "cell_type": "markdown",
   "metadata": {},
   "source": [
    "<b>Feature Engineering"
   ]
  },
  {
   "cell_type": "markdown",
   "metadata": {},
   "source": [
    "Encoding"
   ]
  },
  {
   "cell_type": "code",
   "execution_count": 4,
   "metadata": {},
   "outputs": [],
   "source": [
    "df['Attrition'] = df['Attrition'].map({'Yes':1,'No':0})"
   ]
  },
  {
   "cell_type": "code",
   "execution_count": 5,
   "metadata": {},
   "outputs": [],
   "source": [
    "feature = pd.get_dummies(df.drop('Attrition', axis=1), drop_first=True)\n",
    "target  = df['Attrition']"
   ]
  },
  {
   "cell_type": "code",
   "execution_count": 6,
   "metadata": {},
   "outputs": [
    {
     "data": {
      "text/plain": [
       "Index(['Age', 'DistanceFromHome', 'JobLevel', 'MonthlyIncome',\n",
       "       'NumCompaniesWorked', 'PercentSalaryHike', 'StockOptionLevel',\n",
       "       'TotalWorkingYears', 'TrainingTimesLastYear', 'YearsAtCompany',\n",
       "       'YearsSinceLastPromotion', 'YearsWithCurrManager', 'Absence',\n",
       "       'EnvironmentSatisfaction', 'JobSatisfaction', 'WorkLifeBalance',\n",
       "       'JobInvolvement', 'PerformanceRating',\n",
       "       'BusinessTravel_Travel_Frequently', 'BusinessTravel_Travel_Rarely',\n",
       "       'Department_Research & Development', 'Department_Sales',\n",
       "       'Education_Below College', 'Education_College', 'Education_Doctor',\n",
       "       'Education_Master', 'EducationField_Life Sciences',\n",
       "       'EducationField_Marketing', 'EducationField_Medical',\n",
       "       'EducationField_Other', 'EducationField_Technical Degree',\n",
       "       'Gender_Male', 'JobRole_Human Resources',\n",
       "       'JobRole_Laboratory Technician', 'JobRole_Manager',\n",
       "       'JobRole_Manufacturing Director', 'JobRole_Research Director',\n",
       "       'JobRole_Research Scientist', 'JobRole_Sales Executive',\n",
       "       'JobRole_Sales Representative', 'MaritalStatus_Married',\n",
       "       'MaritalStatus_Single'],\n",
       "      dtype='object')"
      ]
     },
     "execution_count": 6,
     "metadata": {},
     "output_type": "execute_result"
    }
   ],
   "source": [
    "feature.columns"
   ]
  },
  {
   "cell_type": "code",
   "execution_count": 7,
   "metadata": {},
   "outputs": [
    {
     "name": "stdout",
     "output_type": "stream",
     "text": [
      "Our feature now increased from 25 columns to 42 columns.\n"
     ]
    }
   ],
   "source": [
    "print('Our feature now increased from {} columns to {} columns.'.format(len(df.drop('Attrition', axis=1).columns),len(feature.columns)))"
   ]
  },
  {
   "cell_type": "markdown",
   "metadata": {},
   "source": [
    "#### Training Data"
   ]
  },
  {
   "cell_type": "code",
   "execution_count": 8,
   "metadata": {},
   "outputs": [],
   "source": [
    "from sklearn.model_selection import train_test_split\n",
    "\n",
    "X_train, X_test, y_train, y_test = train_test_split(feature, target, random_state=101, test_size=0.2)"
   ]
  },
  {
   "cell_type": "markdown",
   "metadata": {},
   "source": [
    "#### Model Selection based on Accuracy score"
   ]
  },
  {
   "cell_type": "code",
   "execution_count": 9,
   "metadata": {},
   "outputs": [],
   "source": [
    "from imblearn.over_sampling import SMOTE\n",
    "from sklearn.tree import DecisionTreeClassifier\n",
    "from sklearn.ensemble import RandomForestClassifier, GradientBoostingClassifier\n",
    "from sklearn.linear_model import LogisticRegression\n",
    "from sklearn.naive_bayes import GaussianNB\n",
    "from sklearn.neighbors import KNeighborsClassifier"
   ]
  },
  {
   "cell_type": "code",
   "execution_count": 10,
   "metadata": {},
   "outputs": [],
   "source": [
    "from sklearn.metrics import accuracy_score, log_loss, f1_score, recall_score, classification_report"
   ]
  },
  {
   "cell_type": "code",
   "execution_count": 11,
   "metadata": {},
   "outputs": [],
   "source": [
    "models = [DecisionTreeClassifier, RandomForestClassifier, GradientBoostingClassifier, GaussianNB, KNeighborsClassifier]"
   ]
  },
  {
   "cell_type": "code",
   "execution_count": 12,
   "metadata": {},
   "outputs": [],
   "source": [
    "def score_algorithm(X, y, model):\n",
    "    X_train, X_test, y_train, y_test = train_test_split(X, y, test_size=0.2, random_state=101)\n",
    "    algorithm = model()\n",
    "    sm = SMOTE(random_state=101)\n",
    "    X_sm, y_sm = sm.fit_sample(X_train, y_train)\n",
    "      \n",
    "    #evaluation model SMOTE\n",
    "    algorithm.fit(X_sm, y_sm)\n",
    "    prediction_smote = algorithm.predict(X_sm)\n",
    "    accuracy_SMOTE =  accuracy_score(y_sm, prediction_smote)\n",
    "    recall_SMOTE = recall_score(y_sm, prediction_smote)\n",
    "    f1_SMOTE = f1_score(y_sm,prediction_smote)\n",
    "    log_SMOTE = log_loss(y_sm, prediction_smote)\n",
    "    \n",
    "    #evaluation model test\n",
    "    prediction_test = algorithm.predict(X_test)\n",
    "    accuracy_test =  accuracy_score(y_test, prediction_test)\n",
    "    recall_test = recall_score(y_test, prediction_test)\n",
    "    f1_test = f1_score(y_test,prediction_test)\n",
    "    log_test = log_loss(y_test, prediction_test)\n",
    "        \n",
    "    all_score = [ accuracy_test, recall_test, f1_test, log_test, accuracy_SMOTE, recall_SMOTE, f1_SMOTE, log_SMOTE]\n",
    "    return all_score    "
   ]
  },
  {
   "cell_type": "code",
   "execution_count": 13,
   "metadata": {},
   "outputs": [],
   "source": [
    "score_all = []\n",
    "for i in models:\n",
    "    skor = score_algorithm(feature, target, i)\n",
    "    score_all.append(skor)"
   ]
  },
  {
   "cell_type": "code",
   "execution_count": 14,
   "metadata": {},
   "outputs": [
    {
     "data": {
      "text/html": [
       "<div>\n",
       "<style scoped>\n",
       "    .dataframe tbody tr th:only-of-type {\n",
       "        vertical-align: middle;\n",
       "    }\n",
       "\n",
       "    .dataframe tbody tr th {\n",
       "        vertical-align: top;\n",
       "    }\n",
       "\n",
       "    .dataframe thead th {\n",
       "        text-align: right;\n",
       "    }\n",
       "</style>\n",
       "<table border=\"1\" class=\"dataframe\">\n",
       "  <thead>\n",
       "    <tr style=\"text-align: right;\">\n",
       "      <th></th>\n",
       "      <th>Accuracy_real</th>\n",
       "      <th>Recall_real</th>\n",
       "      <th>F1_real</th>\n",
       "      <th>LogLoss_real</th>\n",
       "      <th>Accuracy_SMOTE</th>\n",
       "      <th>Recall_SMOTE</th>\n",
       "      <th>F1_SMOTE</th>\n",
       "      <th>LogLoss_SMOTE</th>\n",
       "    </tr>\n",
       "  </thead>\n",
       "  <tbody>\n",
       "    <tr>\n",
       "      <th>DecisionTreeClassifier</th>\n",
       "      <td>0.978458</td>\n",
       "      <td>0.946309</td>\n",
       "      <td>0.936877</td>\n",
       "      <td>0.744043</td>\n",
       "      <td>1.000000</td>\n",
       "      <td>1.000000</td>\n",
       "      <td>1.000000</td>\n",
       "      <td>9.992007e-16</td>\n",
       "    </tr>\n",
       "    <tr>\n",
       "      <th>RandomForestClassifier</th>\n",
       "      <td>0.993197</td>\n",
       "      <td>0.959732</td>\n",
       "      <td>0.979452</td>\n",
       "      <td>0.234958</td>\n",
       "      <td>1.000000</td>\n",
       "      <td>1.000000</td>\n",
       "      <td>1.000000</td>\n",
       "      <td>9.992007e-16</td>\n",
       "    </tr>\n",
       "    <tr>\n",
       "      <th>GradientBoostingClassifier</th>\n",
       "      <td>0.873016</td>\n",
       "      <td>0.456376</td>\n",
       "      <td>0.548387</td>\n",
       "      <td>4.385904</td>\n",
       "      <td>0.917566</td>\n",
       "      <td>0.893122</td>\n",
       "      <td>0.915500</td>\n",
       "      <td>2.847201e+00</td>\n",
       "    </tr>\n",
       "    <tr>\n",
       "      <th>GaussianNB</th>\n",
       "      <td>0.506803</td>\n",
       "      <td>0.644295</td>\n",
       "      <td>0.306220</td>\n",
       "      <td>17.034777</td>\n",
       "      <td>0.660486</td>\n",
       "      <td>0.842549</td>\n",
       "      <td>0.712778</td>\n",
       "      <td>1.172662e+01</td>\n",
       "    </tr>\n",
       "    <tr>\n",
       "      <th>KNNeighbors</th>\n",
       "      <td>0.797052</td>\n",
       "      <td>0.832215</td>\n",
       "      <td>0.580796</td>\n",
       "      <td>7.009710</td>\n",
       "      <td>0.910823</td>\n",
       "      <td>0.895482</td>\n",
       "      <td>0.909433</td>\n",
       "      <td>3.080106e+00</td>\n",
       "    </tr>\n",
       "  </tbody>\n",
       "</table>\n",
       "</div>"
      ],
      "text/plain": [
       "                            Accuracy_real  Recall_real   F1_real  \\\n",
       "DecisionTreeClassifier           0.978458     0.946309  0.936877   \n",
       "RandomForestClassifier           0.993197     0.959732  0.979452   \n",
       "GradientBoostingClassifier       0.873016     0.456376  0.548387   \n",
       "GaussianNB                       0.506803     0.644295  0.306220   \n",
       "KNNeighbors                      0.797052     0.832215  0.580796   \n",
       "\n",
       "                            LogLoss_real  Accuracy_SMOTE  Recall_SMOTE  \\\n",
       "DecisionTreeClassifier          0.744043        1.000000      1.000000   \n",
       "RandomForestClassifier          0.234958        1.000000      1.000000   \n",
       "GradientBoostingClassifier      4.385904        0.917566      0.893122   \n",
       "GaussianNB                     17.034777        0.660486      0.842549   \n",
       "KNNeighbors                     7.009710        0.910823      0.895482   \n",
       "\n",
       "                            F1_SMOTE  LogLoss_SMOTE  \n",
       "DecisionTreeClassifier      1.000000   9.992007e-16  \n",
       "RandomForestClassifier      1.000000   9.992007e-16  \n",
       "GradientBoostingClassifier  0.915500   2.847201e+00  \n",
       "GaussianNB                  0.712778   1.172662e+01  \n",
       "KNNeighbors                 0.909433   3.080106e+00  "
      ]
     },
     "execution_count": 14,
     "metadata": {},
     "output_type": "execute_result"
    }
   ],
   "source": [
    "df_score = pd.DataFrame(score_all, columns = ['Accuracy_real','Recall_real', 'F1_real', 'LogLoss_real', 'Accuracy_SMOTE', 'Recall_SMOTE', 'F1_SMOTE', 'LogLoss_SMOTE'], index=['DecisionTreeClassifier', 'RandomForestClassifier', 'GradientBoostingClassifier', 'GaussianNB', 'KNNeighbors'])\n",
    "df_score"
   ]
  },
  {
   "cell_type": "markdown",
   "metadata": {},
   "source": [
    "#### What model shoul be used ?\n",
    "The models which are tree based(Decision Tree and Random Forest) perform much better than the others on the real feature.\n",
    "<br>After a feature treatment with SMOTE for the imbalance data, overall, the models show higher accuracy score. \n",
    "<br>So the selected model is <b>Random Forest Classifier</b>, because it's gained highest accuracy and lowest log loss score. I not doing the SMOTE on training data for the selected model as it is seems 'not-realistic' (gained 100% accuracy), besides, the data is performing very well on un-SMOTE-d data.\n",
    "#### What should be done to non-normal distributed features ?\n",
    "I am aware that the features is not normally distributed and the question is what would I do regarding this issue? <br>As I know, tree based models did not required feature scaling as it will done partitioning based on features, so the convergence and numerical precision issues are not significantly affect the model. I already tried to scale some of the features and the result didn't show significant increase in accuracy score, instead it's messed up the feature importances score, so I'm not doing the feature scaling for this model."
   ]
  },
  {
   "cell_type": "markdown",
   "metadata": {},
   "source": [
    "#### Finding Best Parameters for Random Forest Classifier Model"
   ]
  },
  {
   "cell_type": "code",
   "execution_count": 15,
   "metadata": {},
   "outputs": [],
   "source": [
    "X_train, X_test, y_train, y_test = train_test_split(feature, target, random_state=101, test_size=0.2)"
   ]
  },
  {
   "cell_type": "code",
   "execution_count": 16,
   "metadata": {},
   "outputs": [],
   "source": [
    "parameter = {'class_weight':[{0 : 1, 1 : 2},{0 : 1, 1 : 4},{0 : 1, 1 : 6}],\n",
    "             'min_samples_leaf':[1,2,3,4,5],\n",
    "             'min_samples_split':[2,3,4,5],\n",
    "             'n_estimators':[50,100,200]}"
   ]
  },
  {
   "cell_type": "code",
   "execution_count": 17,
   "metadata": {},
   "outputs": [
    {
     "data": {
      "text/plain": [
       "GridSearchCV(cv=5, error_score=nan,\n",
       "             estimator=RandomForestClassifier(bootstrap=True, ccp_alpha=0.0,\n",
       "                                              class_weight=None,\n",
       "                                              criterion='gini', max_depth=None,\n",
       "                                              max_features='auto',\n",
       "                                              max_leaf_nodes=None,\n",
       "                                              max_samples=None,\n",
       "                                              min_impurity_decrease=0.0,\n",
       "                                              min_impurity_split=None,\n",
       "                                              min_samples_leaf=1,\n",
       "                                              min_samples_split=2,\n",
       "                                              min_weight_fraction_leaf=0.0,\n",
       "                                              n_estimators=100, n_jobs=None,\n",
       "                                              oob_score=False, random_state=101,\n",
       "                                              verbose=0, warm_start=False),\n",
       "             iid='deprecated', n_jobs=3,\n",
       "             param_grid={'class_weight': [{0: 1, 1: 2}, {0: 1, 1: 4},\n",
       "                                          {0: 1, 1: 6}],\n",
       "                         'min_samples_leaf': [1, 2, 3, 4, 5],\n",
       "                         'min_samples_split': [2, 3, 4, 5],\n",
       "                         'n_estimators': [50, 100, 200]},\n",
       "             pre_dispatch='2*n_jobs', refit=True, return_train_score=False,\n",
       "             scoring='accuracy', verbose=0)"
      ]
     },
     "execution_count": 17,
     "metadata": {},
     "output_type": "execute_result"
    }
   ],
   "source": [
    "from sklearn.model_selection import GridSearchCV, RandomizedSearchCV\n",
    "grid = GridSearchCV(RandomForestClassifier(random_state=101), parameter, cv=5, scoring='accuracy', n_jobs=3)\n",
    "grid.fit(X_train, y_train)"
   ]
  },
  {
   "cell_type": "code",
   "execution_count": 18,
   "metadata": {},
   "outputs": [
    {
     "data": {
      "text/plain": [
       "{'class_weight': {0: 1, 1: 2},\n",
       " 'min_samples_leaf': 1,\n",
       " 'min_samples_split': 2,\n",
       " 'n_estimators': 200}"
      ]
     },
     "execution_count": 18,
     "metadata": {},
     "output_type": "execute_result"
    }
   ],
   "source": [
    "grid.best_params_"
   ]
  },
  {
   "cell_type": "markdown",
   "metadata": {},
   "source": [
    "#### Modelling with Best Parameters"
   ]
  },
  {
   "cell_type": "code",
   "execution_count": 19,
   "metadata": {},
   "outputs": [],
   "source": [
    "model = RandomForestClassifier(class_weight={0:1, 1:2}, min_samples_leaf=1, min_samples_split=2, n_estimators=200, random_state=101)"
   ]
  },
  {
   "cell_type": "code",
   "execution_count": 20,
   "metadata": {},
   "outputs": [
    {
     "data": {
      "text/plain": [
       "RandomForestClassifier(bootstrap=True, ccp_alpha=0.0, class_weight={0: 1, 1: 2},\n",
       "                       criterion='gini', max_depth=None, max_features='auto',\n",
       "                       max_leaf_nodes=None, max_samples=None,\n",
       "                       min_impurity_decrease=0.0, min_impurity_split=None,\n",
       "                       min_samples_leaf=1, min_samples_split=2,\n",
       "                       min_weight_fraction_leaf=0.0, n_estimators=200,\n",
       "                       n_jobs=None, oob_score=False, random_state=101,\n",
       "                       verbose=0, warm_start=False)"
      ]
     },
     "execution_count": 20,
     "metadata": {},
     "output_type": "execute_result"
    }
   ],
   "source": [
    "model.fit(X_train, y_train)"
   ]
  },
  {
   "cell_type": "code",
   "execution_count": 21,
   "metadata": {},
   "outputs": [
    {
     "name": "stdout",
     "output_type": "stream",
     "text": [
      "              precision    recall  f1-score   support\n",
      "\n",
      "           0       0.99      1.00      1.00       733\n",
      "           1       1.00      0.95      0.98       149\n",
      "\n",
      "    accuracy                           0.99       882\n",
      "   macro avg       1.00      0.98      0.99       882\n",
      "weighted avg       0.99      0.99      0.99       882\n",
      "\n"
     ]
    }
   ],
   "source": [
    "prediction = model.predict(X_test)\n",
    "print(classification_report(y_test, prediction))"
   ]
  },
  {
   "cell_type": "code",
   "execution_count": 22,
   "metadata": {},
   "outputs": [
    {
     "data": {
      "text/plain": [
       "array([0.08269911, 0.05352772, 0.02567248, 0.0729181 , 0.04410237,\n",
       "       0.04752776, 0.02327326, 0.07690595, 0.03372577, 0.06419313,\n",
       "       0.0344264 , 0.05290146, 0.02945181, 0.03448441, 0.03811884,\n",
       "       0.02690941, 0.0246264 , 0.00727794, 0.01709039, 0.01000939,\n",
       "       0.01078354, 0.01003715, 0.00759047, 0.01032573, 0.00305176,\n",
       "       0.01134512, 0.01098938, 0.00590913, 0.00998219, 0.00455487,\n",
       "       0.00560431, 0.01216391, 0.00364099, 0.00851462, 0.00474218,\n",
       "       0.0057828 , 0.00775844, 0.00910511, 0.01251867, 0.00674377,\n",
       "       0.01128919, 0.02772458])"
      ]
     },
     "execution_count": 22,
     "metadata": {},
     "output_type": "execute_result"
    }
   ],
   "source": [
    "model.feature_importances_"
   ]
  },
  {
   "cell_type": "code",
   "execution_count": 23,
   "metadata": {},
   "outputs": [],
   "source": [
    "df_feature = pd.DataFrame(columns=['Feature','Importance'])\n",
    "df_feature['Feature'] = feature.columns\n",
    "df_feature['Importance'] = model.feature_importances_"
   ]
  },
  {
   "cell_type": "code",
   "execution_count": 24,
   "metadata": {},
   "outputs": [
    {
     "data": {
      "text/html": [
       "<div>\n",
       "<style scoped>\n",
       "    .dataframe tbody tr th:only-of-type {\n",
       "        vertical-align: middle;\n",
       "    }\n",
       "\n",
       "    .dataframe tbody tr th {\n",
       "        vertical-align: top;\n",
       "    }\n",
       "\n",
       "    .dataframe thead th {\n",
       "        text-align: right;\n",
       "    }\n",
       "</style>\n",
       "<table border=\"1\" class=\"dataframe\">\n",
       "  <thead>\n",
       "    <tr style=\"text-align: right;\">\n",
       "      <th></th>\n",
       "      <th>Feature</th>\n",
       "      <th>Importance</th>\n",
       "    </tr>\n",
       "  </thead>\n",
       "  <tbody>\n",
       "    <tr>\n",
       "      <th>0</th>\n",
       "      <td>Age</td>\n",
       "      <td>0.082699</td>\n",
       "    </tr>\n",
       "    <tr>\n",
       "      <th>7</th>\n",
       "      <td>TotalWorkingYears</td>\n",
       "      <td>0.076906</td>\n",
       "    </tr>\n",
       "    <tr>\n",
       "      <th>3</th>\n",
       "      <td>MonthlyIncome</td>\n",
       "      <td>0.072918</td>\n",
       "    </tr>\n",
       "    <tr>\n",
       "      <th>9</th>\n",
       "      <td>YearsAtCompany</td>\n",
       "      <td>0.064193</td>\n",
       "    </tr>\n",
       "    <tr>\n",
       "      <th>1</th>\n",
       "      <td>DistanceFromHome</td>\n",
       "      <td>0.053528</td>\n",
       "    </tr>\n",
       "    <tr>\n",
       "      <th>11</th>\n",
       "      <td>YearsWithCurrManager</td>\n",
       "      <td>0.052901</td>\n",
       "    </tr>\n",
       "    <tr>\n",
       "      <th>5</th>\n",
       "      <td>PercentSalaryHike</td>\n",
       "      <td>0.047528</td>\n",
       "    </tr>\n",
       "    <tr>\n",
       "      <th>4</th>\n",
       "      <td>NumCompaniesWorked</td>\n",
       "      <td>0.044102</td>\n",
       "    </tr>\n",
       "    <tr>\n",
       "      <th>14</th>\n",
       "      <td>JobSatisfaction</td>\n",
       "      <td>0.038119</td>\n",
       "    </tr>\n",
       "    <tr>\n",
       "      <th>13</th>\n",
       "      <td>EnvironmentSatisfaction</td>\n",
       "      <td>0.034484</td>\n",
       "    </tr>\n",
       "  </tbody>\n",
       "</table>\n",
       "</div>"
      ],
      "text/plain": [
       "                    Feature  Importance\n",
       "0                       Age    0.082699\n",
       "7         TotalWorkingYears    0.076906\n",
       "3             MonthlyIncome    0.072918\n",
       "9            YearsAtCompany    0.064193\n",
       "1          DistanceFromHome    0.053528\n",
       "11     YearsWithCurrManager    0.052901\n",
       "5         PercentSalaryHike    0.047528\n",
       "4        NumCompaniesWorked    0.044102\n",
       "14          JobSatisfaction    0.038119\n",
       "13  EnvironmentSatisfaction    0.034484"
      ]
     },
     "execution_count": 24,
     "metadata": {},
     "output_type": "execute_result"
    }
   ],
   "source": [
    "df_feature.sort_values(by='Importance', ascending=False).head(10)"
   ]
  },
  {
   "cell_type": "code",
   "execution_count": 33,
   "metadata": {},
   "outputs": [
    {
     "data": {
      "image/png": "[encoded data removed]",
      "text/plain": [
       "<Figure size 864x432 with 1 Axes>"
      ]
     },
     "metadata": {},
     "output_type": "display_data"
    }
   ],
   "source": [
    "plt.figure(figsize=(12,6))\n",
    "sns.set_style('darkgrid')\n",
    "sns.barplot(data=df_feature.sort_values(by='Importance', ascending=False).head(10), x='Importance', y='Feature', palette='rainbow')\n",
    "\n",
    "plt.savefig(\"output.png\")\n",
    "plt.show()"
   ]
  },
  {
   "cell_type": "markdown",
   "metadata": {},
   "source": [
    "#### Export Model"
   ]
  },
  {
   "cell_type": "code",
   "execution_count": 26,
   "metadata": {},
   "outputs": [],
   "source": [
    "import pickle"
   ]
  },
  {
   "cell_type": "code",
   "execution_count": 27,
   "metadata": {},
   "outputs": [],
   "source": [
    "filename = 'final_model.sav'\n",
    "pickle.dump(model, open(filename, 'wb'))"
   ]
  },
  {
   "cell_type": "code",
   "execution_count": 28,
   "metadata": {},
   "outputs": [],
   "source": [
    "filename = 'feature_dummies_column.sav'\n",
    "pickle.dump(feature.columns, open(filename , 'wb'))"
   ]
  },
  {
   "cell_type": "code",
   "execution_count": 29,
   "metadata": {},
   "outputs": [],
   "source": [
    "filename = 'original_column.sav'\n",
    "pickle.dump(df.drop('Attrition',axis=1).columns, open(filename , 'wb'))"
   ]
  },
  {
   "cell_type": "code",
   "execution_count": null,
   "metadata": {},
   "outputs": [],
   "source": []
  }
 ],
 "metadata": {
  "kernelspec": {
   "display_name": "Python 3",
   "language": "python",
   "name": "python3"
  },
  "language_info": {
   "codemirror_mode": {
    "name": "ipython",
    "version": 3
   },
   "file_extension": ".py",
   "mimetype": "text/x-python",
   "name": "python",
   "nbconvert_exporter": "python",
   "pygments_lexer": "ipython3",
   "version": "3.7.4"
  }
 },
 "nbformat": 4,
 "nbformat_minor": 4
}
